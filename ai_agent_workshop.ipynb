{
 "cells": [
  {
   "cell_type": "code",
   "execution_count": null,
   "metadata": {
    "vscode": {
     "languageId": "plaintext"
    }
   },
   "outputs": [],
   "source": [
    "! pip install openai groq"
   ]
  },
  {
   "cell_type": "code",
   "execution_count": null,
   "metadata": {
    "vscode": {
     "languageId": "plaintext"
    }
   },
   "outputs": [],
   "source": [
    "from openai import OpenAI\n",
    "from google.colab import userdata\n",
    "import os\n",
    "import json\n",
    "from groq import Groq\n",
    "import json\n",
    "from typing import List, Dict, Any, Callable\n",
    "import ast\n",
    "import io\n",
    "import sys\n",
    "\n",
    "groq_api_key = userdata.get(\"GROQ_API_KEY)\n",
    "os.environ['GROQ_API_KEY] = groq_api_key\n",
    "\n",
    "openrouter_api_key = userdata.get(\"OPENROUTER_API_KEY\")\n",
    "os.environ['OPENROUTER_API_KEY] = openrouter_api_key\n",
    "\n",
    "openai_api_key = userdata.get(\"OPENAI_API_KEY\")\n",
    "os.environ['OPENAI_API_KEY'] = openai_api_key\n",
    "\n",
    "groq_client = Groq(api_key=os.getenv('GROQ_API_KEY))\n",
    "\n",
    "openrouter_client = OpenAI(\n",
    "    base_url=\"https://openrouter.ai/api/v1\",\n",
    "    api_key=os.getenv(\"OPENROUTER_API_KEY\")\n",
    ")\n",
    "\n",
    "openai_client = OpenAI(\n",
    "    base_url=\"https://api.openai.com/v1\",\n",
    "    api_key=os.getenv(\"OPENAI_API_KEY\")\n",
    ")"
   ]
  },
  {
   "cell_type": "code",
   "execution_count": null,
   "metadata": {
    "vscode": {
     "languageId": "plaintext"
    }
   },
   "outputs": [],
   "source": [
    "def get_llm_response(client, prompt, openai_model=\"oi-preview\", json_mode=False):\n",
    "\n",
    "if client == \"openai\":\n",
    "    kwargs = {\n",
    "        \"model\": openai_model,\n",
    "        \"messages\": [{\"role\": \"user\", \"content\": prompt}]\n",
    "    }\n",
    "\n",
    "    if json_mode:\n",
    "        kwargs[\"response_format\"] = {\"type\": \"json_object\"}\n",
    "\n",
    "    response = openai_client.chat.completions.create(**kwargs)\n",
    "\n",
    "    elif client == \"groq\":\n",
    "\n",
    "        try:\n",
    "            models = [\"llama-3.1-8b-instant\", \"llama-3.1-70b-versatile\", \"llama3-70b-8192\", \"llama3-8b-8192\", \"gemma2-9b-it\"]\n",
    "\n",
    "            for model in models:\n",
    "                try:\n",
    "                    kwargs = {\n",
    "                        \"model\": model,\n",
    "                        \"messages\": [{\"role\": \"user\", \"content\": prompt}]\n",
    "                    }\n",
    "                    if json_mode:\n",
    "                        kwargs[\"response_format\"] = {\"type\": \"json_object\"}\n",
    "\n",
    "                    response = groq_client.chat.completions.create(**kwargs)\n",
    "\n",
    "                    break\n",
    "\n",
    "                except Exception as e:\n",
    "                    print(f\"Error: {e}\")\n",
    "                    continue\n",
    "\n",
    "        except Exception as e:\n",
    "            print(f\"Error: {e}\")\n",
    "\n",
    "            kwargs = {\n",
    "                \"model\": \"meta-llama/llama-3.1-8b-instruct:free\",\n",
    "                \"messages\": [{\"role\": \"user\", \"content\": prompt}]\n",
    "            }\n",
    "\n",
    "            if json_mode:\n",
    "                kwargs[\"response_format\"] = {\"type\": \"json_object\"}\n",
    "\n",
    "            response = openrouter_client.chat.completions.create(**kwargs)\n",
    "\n",
    "    else:\n",
    "        raise ValueError(f\"Invalid client: {client}\")\n",
    "\n",
    "    return response.choices[0].message.content"
   ]
  }
 ],
 "metadata": {
  "language_info": {
   "name": "python"
  }
 },
 "nbformat": 4,
 "nbformat_minor": 2
}
