{
 "cells": [
  {
   "cell_type": "code",
   "execution_count": null,
   "metadata": {
    "vscode": {
     "languageId": "plaintext"
    }
   },
   "outputs": [],
   "source": [
    "! pip install openai groq"
   ]
  },
  {
   "cell_type": "code",
   "execution_count": null,
   "metadata": {
    "vscode": {
     "languageId": "plaintext"
    }
   },
   "outputs": [],
   "source": [
    "from openai import OpenAI\n",
    "from google.colab import userdata\n",
    "import os\n",
    "import json\n",
    "from groq import Groq\n",
    "import json\n",
    "from typing import List, Dict, Any, Callable\n",
    "import ast\n",
    "import io\n",
    "import sys\n",
    "\n",
    "groq_api_key = userdata.get(\"GROQ_API_KEY)\n",
    "os.environ['GROQ_API_KEY] = groq_api_key\n",
    "\n",
    "openrouter_api_key = userdata.get(\"OPENROUTER_API_KEY\")\n",
    "os.environ['OPENROUTER_API_KEY] = openrouter_api_key\n",
    "\n",
    "openai_api_key = userdata.get(\"OPENAI_API_KEY\")\n",
    "os.environ['OPENAI_API_KEY'] = openai_api_key\n",
    "\n",
    "groq_client = Groq(api_key=os.getenv('GROQ_API_KEY))\n",
    "\n",
    "openrouter_client = OpenAI(\n",
    "    base_url=\"https://openrouter.ai/api/v1\",\n",
    "    api_key=os.getenv(\"OPENROUTER_API_KEY\")\n",
    ")\n",
    "\n",
    "openai_client = OpenAI(\n",
    "    base_url=\"https://api.openai.com/v1\",\n",
    "    api_key=os.getenv(\"OPENAI_API_KEY\")\n",
    ")"
   ]
  }
 ],
 "metadata": {
  "language_info": {
   "name": "python"
  }
 },
 "nbformat": 4,
 "nbformat_minor": 2
}
